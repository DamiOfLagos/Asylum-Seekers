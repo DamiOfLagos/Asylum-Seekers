{
 "cells": [
  {
   "cell_type": "code",
   "execution_count": 3,
   "metadata": {
    "datalore": {
     "hide_input_from_viewers": false,
     "hide_output_from_viewers": false,
     "type": "CODE"
    }
   },
   "outputs": [],
   "source": [
    "import matplotlib.pyplot as plt\n",
    "import pandas as pd\n",
    "import plotly.express as px"
   ]
  },
  {
   "cell_type": "code",
   "execution_count": 4,
   "metadata": {
    "datalore": {
     "hide_input_from_viewers": false,
     "hide_output_from_viewers": false,
     "type": "CODE"
    }
   },
   "outputs": [],
   "source": [
    "df = pd.read_csv(\"asylum-seekers-monthly-2016-12-08-152150.csv\")"
   ]
  },
  {
   "cell_type": "code",
   "execution_count": 5,
   "metadata": {
    "datalore": {
     "hide_input_from_viewers": false,
     "hide_output_from_viewers": false,
     "type": "CODE"
    }
   },
   "outputs": [
    {
     "data": {
      "text/html": [
       "<div>\n",
       "<style scoped>\n",
       "    .dataframe tbody tr th:only-of-type {\n",
       "        vertical-align: middle;\n",
       "    }\n",
       "\n",
       "    .dataframe tbody tr th {\n",
       "        vertical-align: top;\n",
       "    }\n",
       "\n",
       "    .dataframe thead th {\n",
       "        text-align: right;\n",
       "    }\n",
       "</style>\n",
       "<table border=\"1\" class=\"dataframe\">\n",
       "  <thead>\n",
       "    <tr style=\"text-align: right;\">\n",
       "      <th></th>\n",
       "      <th>Country / territory of asylum/residence</th>\n",
       "      <th>Origin</th>\n",
       "      <th>Year</th>\n",
       "      <th>Month</th>\n",
       "      <th>Value</th>\n",
       "      <th>Date</th>\n",
       "    </tr>\n",
       "  </thead>\n",
       "  <tbody>\n",
       "    <tr>\n",
       "      <th>0</th>\n",
       "      <td>Albania</td>\n",
       "      <td>Afghanistan</td>\n",
       "      <td>2007</td>\n",
       "      <td>November</td>\n",
       "      <td>1</td>\n",
       "      <td>11-01-07</td>\n",
       "    </tr>\n",
       "    <tr>\n",
       "      <th>1</th>\n",
       "      <td>Albania</td>\n",
       "      <td>Afghanistan</td>\n",
       "      <td>2012</td>\n",
       "      <td>September</td>\n",
       "      <td>1</td>\n",
       "      <td>09-01-12</td>\n",
       "    </tr>\n",
       "    <tr>\n",
       "      <th>2</th>\n",
       "      <td>Albania</td>\n",
       "      <td>Afghanistan</td>\n",
       "      <td>2015</td>\n",
       "      <td>May</td>\n",
       "      <td>0</td>\n",
       "      <td>05-01-15</td>\n",
       "    </tr>\n",
       "    <tr>\n",
       "      <th>3</th>\n",
       "      <td>Albania</td>\n",
       "      <td>Afghanistan</td>\n",
       "      <td>2016</td>\n",
       "      <td>June</td>\n",
       "      <td>18</td>\n",
       "      <td>06-01-16</td>\n",
       "    </tr>\n",
       "    <tr>\n",
       "      <th>4</th>\n",
       "      <td>Albania</td>\n",
       "      <td>Afghanistan</td>\n",
       "      <td>2016</td>\n",
       "      <td>July</td>\n",
       "      <td>19</td>\n",
       "      <td>07-01-16</td>\n",
       "    </tr>\n",
       "  </tbody>\n",
       "</table>\n",
       "</div>"
      ],
      "text/plain": [
       "  Country / territory of asylum/residence       Origin  Year      Month  \\\n",
       "0                                 Albania  Afghanistan  2007   November   \n",
       "1                                 Albania  Afghanistan  2012  September   \n",
       "2                                 Albania  Afghanistan  2015        May   \n",
       "3                                 Albania  Afghanistan  2016       June   \n",
       "4                                 Albania  Afghanistan  2016       July   \n",
       "\n",
       "   Value      Date  \n",
       "0      1  11-01-07  \n",
       "1      1  09-01-12  \n",
       "2      0  05-01-15  \n",
       "3     18  06-01-16  \n",
       "4     19  07-01-16  "
      ]
     },
     "execution_count": 5,
     "metadata": {},
     "output_type": "execute_result"
    }
   ],
   "source": [
    "df.head()"
   ]
  },
  {
   "cell_type": "code",
   "execution_count": 6,
   "metadata": {
    "datalore": {
     "hide_input_from_viewers": false,
     "hide_output_from_viewers": false,
     "type": "CODE"
    }
   },
   "outputs": [
    {
     "name": "stdout",
     "output_type": "stream",
     "text": [
      "<class 'pandas.core.frame.DataFrame'>\n",
      "RangeIndex: 65499 entries, 0 to 65498\n",
      "Data columns (total 6 columns):\n",
      " #   Column                                   Non-Null Count  Dtype \n",
      "---  ------                                   --------------  ----- \n",
      " 0   Country / territory of asylum/residence  65499 non-null  object\n",
      " 1   Origin                                   65499 non-null  object\n",
      " 2   Year                                     65499 non-null  int64 \n",
      " 3   Month                                    65499 non-null  object\n",
      " 4   Value                                    65499 non-null  int64 \n",
      " 5   Date                                     65499 non-null  object\n",
      "dtypes: int64(2), object(4)\n",
      "memory usage: 3.0+ MB\n"
     ]
    }
   ],
   "source": [
    "df.info()"
   ]
  },
  {
   "cell_type": "code",
   "execution_count": 7,
   "metadata": {
    "datalore": {
     "hide_input_from_viewers": false,
     "hide_output_from_viewers": false,
     "type": "CODE"
    }
   },
   "outputs": [],
   "source": [
    "df = df.rename(columns={'Country / territory of asylum/residence':'country'})"
   ]
  },
  {
   "cell_type": "code",
   "execution_count": 8,
   "metadata": {
    "datalore": {
     "hide_input_from_viewers": false,
     "hide_output_from_viewers": false,
     "type": "CODE"
    }
   },
   "outputs": [],
   "source": [
    "assylum_instances = df[\"country\"].value_counts()"
   ]
  },
  {
   "cell_type": "code",
   "execution_count": 9,
   "metadata": {
    "datalore": {
     "hide_input_from_viewers": false,
     "hide_output_from_viewers": false,
     "type": "CODE"
    }
   },
   "outputs": [
    {
     "data": {
      "image/png": "[encoded data removed]",
      "text/plain": [
       "<Figure size 720x360 with 1 Axes>"
      ]
     },
     "metadata": {
      "needs_background": "light"
     },
     "output_type": "display_data"
    }
   ],
   "source": [
    "assylum_instances.plot(\n",
    "    kind=\"bar\",\n",
    "    xlabel=\"Asylum destination\",\n",
    "    ylabel=\"No of instances\",\n",
    "    title=\"Asylum destination by number of application instances\",\n",
    "    width=0.6,\n",
    "    figsize=(10,5),\n",
    "    color=\"red\"\n",
    ");"
   ]
  },
  {
   "cell_type": "code",
   "execution_count": 10,
   "metadata": {
    "datalore": {
     "hide_input_from_viewers": false,
     "hide_output_from_viewers": false,
     "type": "CODE"
    }
   },
   "outputs": [],
   "source": [
    "total_asylum_seekers_per_country=df.groupby(\"country\")[\"Value\"].sum().sort_values(ascending=True)"
   ]
  },
  {
   "cell_type": "code",
   "execution_count": 11,
   "metadata": {
    "datalore": {
     "hide_input_from_viewers": false,
     "hide_output_from_viewers": false,
     "type": "CODE"
    }
   },
   "outputs": [
    {
     "data": {
      "text/plain": [
       "country\n",
       "Bosnia and Herzegovina       316\n",
       "Albania                     3358\n",
       "Czech Rep.                  7228\n",
       "Cyprus                     16674\n",
       "Bulgaria                   68909\n",
       "Australia                 147729\n",
       "Belgium                   316604\n",
       "Austria                   394620\n",
       "Canada                    451158\n",
       "Name: Value, dtype: int64"
      ]
     },
     "execution_count": 11,
     "metadata": {},
     "output_type": "execute_result"
    }
   ],
   "source": [
    "total_asylum_seekers_per_country"
   ]
  },
  {
   "cell_type": "code",
   "execution_count": null,
   "metadata": {
    "datalore": {
     "hide_input_from_viewers": false,
     "hide_output_from_viewers": false,
     "type": "CODE"
    }
   },
   "outputs": [],
   "source": []
  },
  {
   "cell_type": "code",
   "execution_count": 12,
   "metadata": {
    "datalore": {
     "hide_input_from_viewers": false,
     "hide_output_from_viewers": false,
     "type": "CODE"
    }
   },
   "outputs": [
    {
     "data": {
      "image/png": "[encoded data removed]",
      "text/plain": [
       "<Figure size 432x288 with 1 Axes>"
      ]
     },
     "metadata": {
      "needs_background": "light"
     },
     "output_type": "display_data"
    }
   ],
   "source": [
    "total_asylum_seekers_per_country.plot(\n",
    "    kind=\"barh\",\n",
    "    xlabel=\"Total Asylum seekers\",\n",
    "    ylabel=\"Destination Country\",\n",
    "    title=\"Total Asylum seekers per Destination Country\"\n",
    ");"
   ]
  },
  {
   "cell_type": "code",
   "execution_count": 13,
   "metadata": {
    "datalore": {
     "hide_input_from_viewers": false,
     "hide_output_from_viewers": false,
     "type": "CODE"
    }
   },
   "outputs": [
    {
     "data": {
      "text/plain": [
       "Year\n",
       "1999     77503\n",
       "2000    106555\n",
       "2001    108136\n",
       "2002     91174\n",
       "2003     82626\n",
       "2004     66636\n",
       "2005     57689\n",
       "2006     49510\n",
       "2007     55135\n",
       "2008     65157\n",
       "2009     69420\n",
       "2010     63948\n",
       "2011     73921\n",
       "2012     71982\n",
       "2013     57524\n",
       "2014     66811\n",
       "2015    162726\n",
       "2016     80143\n",
       "Name: Value, dtype: int64"
      ]
     },
     "execution_count": 13,
     "metadata": {},
     "output_type": "execute_result"
    }
   ],
   "source": [
    "asylum_seeker_per_year = df.groupby(\"Year\")[\"Value\"].sum()\n",
    "asylum_seeker_per_year"
   ]
  },
  {
   "cell_type": "code",
   "execution_count": 14,
   "metadata": {
    "datalore": {
     "hide_input_from_viewers": false,
     "hide_output_from_viewers": false,
     "type": "CODE"
    }
   },
   "outputs": [
    {
     "data": {
      "text/plain": [
       "''"
      ]
     },
     "execution_count": 14,
     "metadata": {},
     "output_type": "execute_result"
    },
    {
     "data": {
      "image/png": "[encoded data removed]",
      "text/plain": [
       "<Figure size 1080x720 with 1 Axes>"
      ]
     },
     "metadata": {
      "needs_background": "light"
     },
     "output_type": "display_data"
    }
   ],
   "source": [
    "asylum_seeker_per_year.plot(\n",
    "    kind=\"bar\",\n",
    "    figsize=(15,10),\n",
    "    title=\"Asylum seekers per year\",\n",
    "    xlabel=\"Years\",\n",
    "    ylabel=\"Number of asylum seekers\",\n",
    "    grid=False\n",
    ")\n",
    ";"
   ]
  },
  {
   "attachments": {},
   "cell_type": "markdown",
   "metadata": {
    "datalore": {
     "hide_input_from_viewers": false,
     "hide_output_from_viewers": false,
     "type": "MD"
    }
   },
   "source": [
    "# **Doing a separate analysis into Canada as a destination**"
   ]
  },
  {
   "cell_type": "code",
   "execution_count": 15,
   "metadata": {
    "datalore": {
     "hide_input_from_viewers": false,
     "hide_output_from_viewers": false,
     "type": "CODE"
    }
   },
   "outputs": [
    {
     "data": {
      "text/html": [
       "<div>\n",
       "<style scoped>\n",
       "    .dataframe tbody tr th:only-of-type {\n",
       "        vertical-align: middle;\n",
       "    }\n",
       "\n",
       "    .dataframe tbody tr th {\n",
       "        vertical-align: top;\n",
       "    }\n",
       "\n",
       "    .dataframe thead th {\n",
       "        text-align: right;\n",
       "    }\n",
       "</style>\n",
       "<table border=\"1\" class=\"dataframe\">\n",
       "  <thead>\n",
       "    <tr style=\"text-align: right;\">\n",
       "      <th></th>\n",
       "      <th>country</th>\n",
       "      <th>Origin</th>\n",
       "      <th>Year</th>\n",
       "      <th>Month</th>\n",
       "      <th>Value</th>\n",
       "      <th>Date</th>\n",
       "    </tr>\n",
       "  </thead>\n",
       "  <tbody>\n",
       "    <tr>\n",
       "      <th>38140</th>\n",
       "      <td>Canada</td>\n",
       "      <td>Argentina</td>\n",
       "      <td>2002</td>\n",
       "      <td>April</td>\n",
       "      <td>65</td>\n",
       "      <td>04-01-02</td>\n",
       "    </tr>\n",
       "    <tr>\n",
       "      <th>38141</th>\n",
       "      <td>Canada</td>\n",
       "      <td>Argentina</td>\n",
       "      <td>2002</td>\n",
       "      <td>May</td>\n",
       "      <td>64</td>\n",
       "      <td>05-01-02</td>\n",
       "    </tr>\n",
       "    <tr>\n",
       "      <th>38142</th>\n",
       "      <td>Canada</td>\n",
       "      <td>Argentina</td>\n",
       "      <td>2002</td>\n",
       "      <td>June</td>\n",
       "      <td>85</td>\n",
       "      <td>06-01-02</td>\n",
       "    </tr>\n",
       "    <tr>\n",
       "      <th>38143</th>\n",
       "      <td>Canada</td>\n",
       "      <td>Argentina</td>\n",
       "      <td>2002</td>\n",
       "      <td>July</td>\n",
       "      <td>39</td>\n",
       "      <td>07-01-02</td>\n",
       "    </tr>\n",
       "    <tr>\n",
       "      <th>38144</th>\n",
       "      <td>Canada</td>\n",
       "      <td>Argentina</td>\n",
       "      <td>2002</td>\n",
       "      <td>August</td>\n",
       "      <td>22</td>\n",
       "      <td>08-01-02</td>\n",
       "    </tr>\n",
       "  </tbody>\n",
       "</table>\n",
       "</div>"
      ],
      "text/plain": [
       "      country     Origin  Year   Month  Value      Date\n",
       "38140  Canada  Argentina  2002   April     65  04-01-02\n",
       "38141  Canada  Argentina  2002     May     64  05-01-02\n",
       "38142  Canada  Argentina  2002    June     85  06-01-02\n",
       "38143  Canada  Argentina  2002    July     39  07-01-02\n",
       "38144  Canada  Argentina  2002  August     22  08-01-02"
      ]
     },
     "execution_count": 15,
     "metadata": {},
     "output_type": "execute_result"
    }
   ],
   "source": [
    "df_canada =df[df[\"country\"] == \"Canada\"]\n",
    "df_canada.head()"
   ]
  },
  {
   "cell_type": "code",
   "execution_count": 16,
   "metadata": {
    "datalore": {
     "hide_input_from_viewers": false,
     "hide_output_from_viewers": false,
     "type": "CODE"
    }
   },
   "outputs": [
    {
     "data": {
      "text/plain": [
       "Year\n",
       "1999    29685\n",
       "2000    36349\n",
       "2001    41033\n",
       "2002    32423\n",
       "2003    31076\n",
       "2004    24892\n",
       "2005    18662\n",
       "2006    21670\n",
       "2007    27530\n",
       "2008    35825\n",
       "2009    32442\n",
       "2010    22553\n",
       "2011    24850\n",
       "2012    19960\n",
       "2013    10135\n",
       "2014    11795\n",
       "2015    14401\n",
       "2016    15877\n",
       "Name: Value, dtype: int64"
      ]
     },
     "execution_count": 16,
     "metadata": {},
     "output_type": "execute_result"
    }
   ],
   "source": [
    "canada_asylum_seeker_per_year = df_canada.groupby(\"Year\")[\"Value\"].sum()\n",
    "canada_asylum_seeker_per_year"
   ]
  },
  {
   "cell_type": "code",
   "execution_count": 17,
   "metadata": {
    "datalore": {
     "hide_input_from_viewers": false,
     "hide_output_from_viewers": false,
     "type": "CODE"
    }
   },
   "outputs": [
    {
     "data": {
      "image/png": "[encoded data removed]",
      "text/plain": [
       "<Figure size 1080x720 with 1 Axes>"
      ]
     },
     "metadata": {
      "needs_background": "light"
     },
     "output_type": "display_data"
    }
   ],
   "source": [
    "canada_asylum_seeker_per_year.plot(\n",
    "    kind=\"bar\",\n",
    "    xlabel=\"Year\",\n",
    "    ylabel=\"Average Number of Asylum seekers in canada\",\n",
    "    title=\"Average Number of Asylum seekers in canada per year\",\n",
    "    figsize=(15,10)\n",
    ");"
   ]
  },
  {
   "cell_type": "code",
   "execution_count": 18,
   "metadata": {
    "datalore": {
     "hide_input_from_viewers": false,
     "hide_output_from_viewers": false,
     "type": "CODE"
    }
   },
   "outputs": [
    {
     "data": {
      "text/plain": [
       "Origin\n",
       "Mexico                      46805\n",
       "China                       30391\n",
       "Colombia                    27545\n",
       "Pakistan                    24741\n",
       "Hungary                     22340\n",
       "Sri Lanka                   20028\n",
       "Haiti                       14835\n",
       "India                       14639\n",
       "Nigeria                     12617\n",
       "United States of America    11536\n",
       "Name: Value, dtype: int64"
      ]
     },
     "execution_count": 18,
     "metadata": {},
     "output_type": "execute_result"
    }
   ],
   "source": [
    "canada_asylum_seeker_per_origin = df_canada.groupby(\"Origin\")[\"Value\"].sum().sort_values(ascending=False).head(10)\n",
    "canada_asylum_seeker_per_origin"
   ]
  },
  {
   "cell_type": "code",
   "execution_count": 19,
   "metadata": {
    "datalore": {
     "hide_input_from_viewers": false,
     "hide_output_from_viewers": false,
     "type": "CODE"
    }
   },
   "outputs": [
    {
     "data": {
      "image/png": "[encoded data removed]",
      "text/plain": [
       "<Figure size 1080x720 with 1 Axes>"
      ]
     },
     "metadata": {
      "needs_background": "light"
     },
     "output_type": "display_data"
    }
   ],
   "source": [
    "canada_asylum_seeker_per_origin.plot(\n",
    "    kind=\"bar\",\n",
    "    ylabel=\"Number of Asylum Seekers\",\n",
    "    xlabel=\"Origin countries\",\n",
    "    figsize=(15,10),\n",
    ");"
   ]
  },
  {
   "cell_type": "code",
   "execution_count": 20,
   "metadata": {
    "datalore": {
     "hide_input_from_viewers": false,
     "hide_output_from_viewers": false,
     "type": "CODE"
    }
   },
   "outputs": [
    {
     "data": {
      "text/plain": [
       "Month\n",
       "April        33986\n",
       "February     34584\n",
       "May          34931\n",
       "June         35438\n",
       "March        35578\n",
       "December     36720\n",
       "July         36895\n",
       "January      37198\n",
       "August       39454\n",
       "November     40698\n",
       "October      41836\n",
       "September    43840\n",
       "Name: Value, dtype: int64"
      ]
     },
     "execution_count": 20,
     "metadata": {},
     "output_type": "execute_result"
    }
   ],
   "source": [
    "canada_asylum_seeker_per_month = df_canada.groupby(\"Month\")[\"Value\"].sum().sort_values(ascending=True)\n",
    "canada_asylum_seeker_per_month"
   ]
  },
  {
   "cell_type": "code",
   "execution_count": 21,
   "metadata": {
    "datalore": {
     "hide_input_from_viewers": false,
     "hide_output_from_viewers": false,
     "type": "CODE"
    }
   },
   "outputs": [
    {
     "data": {
      "text/plain": [
       "<AxesSubplot:title={'center':'Assylum seekers to Canada [Monthly] '}, xlabel='Month'>"
      ]
     },
     "execution_count": 21,
     "metadata": {},
     "output_type": "execute_result"
    },
    {
     "data": {
      "image/png": "[encoded data removed]",
      "text/plain": [
       "<Figure size 1080x720 with 1 Axes>"
      ]
     },
     "metadata": {
      "needs_background": "light"
     },
     "output_type": "display_data"
    }
   ],
   "source": [
    "canada_asylum_seeker_per_month.plot.bar(\n",
    "    figsize=(15,10),\n",
    "    title = \"Assylum seekers to Canada [Monthly] \",\n",
    "    xlabel=\"Month\"\n",
    ")"
   ]
  },
  {
   "attachments": {},
   "cell_type": "markdown",
   "metadata": {
    "datalore": {
     "hide_input_from_viewers": false,
     "hide_output_from_viewers": false,
     "type": "MD"
    }
   },
   "source": [
    "# **Doing a separate analysis into Nigeria as an Origin**"
   ]
  },
  {
   "cell_type": "code",
   "execution_count": 22,
   "metadata": {
    "datalore": {
     "hide_input_from_viewers": false,
     "hide_output_from_viewers": false,
     "type": "CODE"
    }
   },
   "outputs": [
    {
     "data": {
      "text/html": [
       "<div>\n",
       "<style scoped>\n",
       "    .dataframe tbody tr th:only-of-type {\n",
       "        vertical-align: middle;\n",
       "    }\n",
       "\n",
       "    .dataframe tbody tr th {\n",
       "        vertical-align: top;\n",
       "    }\n",
       "\n",
       "    .dataframe thead th {\n",
       "        text-align: right;\n",
       "    }\n",
       "</style>\n",
       "<table border=\"1\" class=\"dataframe\">\n",
       "  <thead>\n",
       "    <tr style=\"text-align: right;\">\n",
       "      <th></th>\n",
       "      <th>country</th>\n",
       "      <th>Origin</th>\n",
       "      <th>Year</th>\n",
       "      <th>Month</th>\n",
       "      <th>Value</th>\n",
       "      <th>Date</th>\n",
       "    </tr>\n",
       "  </thead>\n",
       "  <tbody>\n",
       "    <tr>\n",
       "      <th>102</th>\n",
       "      <td>Albania</td>\n",
       "      <td>Nigeria</td>\n",
       "      <td>2007</td>\n",
       "      <td>April</td>\n",
       "      <td>2</td>\n",
       "      <td>04-01-07</td>\n",
       "    </tr>\n",
       "    <tr>\n",
       "      <th>103</th>\n",
       "      <td>Albania</td>\n",
       "      <td>Nigeria</td>\n",
       "      <td>2007</td>\n",
       "      <td>September</td>\n",
       "      <td>1</td>\n",
       "      <td>09-01-07</td>\n",
       "    </tr>\n",
       "    <tr>\n",
       "      <th>104</th>\n",
       "      <td>Albania</td>\n",
       "      <td>Nigeria</td>\n",
       "      <td>2012</td>\n",
       "      <td>July</td>\n",
       "      <td>1</td>\n",
       "      <td>07-01-12</td>\n",
       "    </tr>\n",
       "    <tr>\n",
       "      <th>5822</th>\n",
       "      <td>Australia</td>\n",
       "      <td>Nigeria</td>\n",
       "      <td>1999</td>\n",
       "      <td>February</td>\n",
       "      <td>3</td>\n",
       "      <td>02-01-99</td>\n",
       "    </tr>\n",
       "    <tr>\n",
       "      <th>5823</th>\n",
       "      <td>Australia</td>\n",
       "      <td>Nigeria</td>\n",
       "      <td>1999</td>\n",
       "      <td>March</td>\n",
       "      <td>1</td>\n",
       "      <td>03-01-99</td>\n",
       "    </tr>\n",
       "    <tr>\n",
       "      <th>...</th>\n",
       "      <td>...</td>\n",
       "      <td>...</td>\n",
       "      <td>...</td>\n",
       "      <td>...</td>\n",
       "      <td>...</td>\n",
       "      <td>...</td>\n",
       "    </tr>\n",
       "    <tr>\n",
       "      <th>56641</th>\n",
       "      <td>Canada</td>\n",
       "      <td>Nigeria</td>\n",
       "      <td>2016</td>\n",
       "      <td>May</td>\n",
       "      <td>100</td>\n",
       "      <td>05-01-16</td>\n",
       "    </tr>\n",
       "    <tr>\n",
       "      <th>56642</th>\n",
       "      <td>Canada</td>\n",
       "      <td>Nigeria</td>\n",
       "      <td>2016</td>\n",
       "      <td>June</td>\n",
       "      <td>112</td>\n",
       "      <td>06-01-16</td>\n",
       "    </tr>\n",
       "    <tr>\n",
       "      <th>56643</th>\n",
       "      <td>Canada</td>\n",
       "      <td>Nigeria</td>\n",
       "      <td>2016</td>\n",
       "      <td>July</td>\n",
       "      <td>116</td>\n",
       "      <td>07-01-16</td>\n",
       "    </tr>\n",
       "    <tr>\n",
       "      <th>56644</th>\n",
       "      <td>Canada</td>\n",
       "      <td>Nigeria</td>\n",
       "      <td>2016</td>\n",
       "      <td>August</td>\n",
       "      <td>68</td>\n",
       "      <td>08-01-16</td>\n",
       "    </tr>\n",
       "    <tr>\n",
       "      <th>56645</th>\n",
       "      <td>Canada</td>\n",
       "      <td>Nigeria</td>\n",
       "      <td>2016</td>\n",
       "      <td>September</td>\n",
       "      <td>150</td>\n",
       "      <td>09-01-16</td>\n",
       "    </tr>\n",
       "  </tbody>\n",
       "</table>\n",
       "<p>934 rows × 6 columns</p>\n",
       "</div>"
      ],
      "text/plain": [
       "         country   Origin  Year      Month  Value      Date\n",
       "102      Albania  Nigeria  2007      April      2  04-01-07\n",
       "103      Albania  Nigeria  2007  September      1  09-01-07\n",
       "104      Albania  Nigeria  2012       July      1  07-01-12\n",
       "5822   Australia  Nigeria  1999   February      3  02-01-99\n",
       "5823   Australia  Nigeria  1999      March      1  03-01-99\n",
       "...          ...      ...   ...        ...    ...       ...\n",
       "56641     Canada  Nigeria  2016        May    100  05-01-16\n",
       "56642     Canada  Nigeria  2016       June    112  06-01-16\n",
       "56643     Canada  Nigeria  2016       July    116  07-01-16\n",
       "56644     Canada  Nigeria  2016     August     68  08-01-16\n",
       "56645     Canada  Nigeria  2016  September    150  09-01-16\n",
       "\n",
       "[934 rows x 6 columns]"
      ]
     },
     "execution_count": 22,
     "metadata": {},
     "output_type": "execute_result"
    }
   ],
   "source": [
    "df_nigeria_origin = df[df[\"Origin\"] == \"Nigeria\"]\n",
    "df_nigeria_origin"
   ]
  },
  {
   "cell_type": "code",
   "execution_count": 23,
   "metadata": {
    "datalore": {
     "hide_input_from_viewers": false,
     "hide_output_from_viewers": false,
     "type": "CODE"
    }
   },
   "outputs": [
    {
     "data": {
      "text/plain": [
       "Year\n",
       "1999     971\n",
       "2000    1507\n",
       "2001    1951\n",
       "2002    2394\n",
       "2003    2812\n",
       "2004    2648\n",
       "2005    1612\n",
       "2006    1192\n",
       "2007    1266\n",
       "2008    1406\n",
       "2009    1770\n",
       "2010    1592\n",
       "2011    1324\n",
       "2012    1337\n",
       "2013    1411\n",
       "2014    1300\n",
       "2015    2225\n",
       "2016    2304\n",
       "Name: Value, dtype: int64"
      ]
     },
     "execution_count": 23,
     "metadata": {},
     "output_type": "execute_result"
    }
   ],
   "source": [
    "nigeria_asylum_year =df_nigeria_origin.groupby(\"Year\")[\"Value\"].sum()\n",
    "nigeria_asylum_year"
   ]
  },
  {
   "cell_type": "code",
   "execution_count": 24,
   "metadata": {
    "datalore": {
     "hide_input_from_viewers": false,
     "hide_output_from_viewers": false,
     "type": "CODE"
    }
   },
   "outputs": [
    {
     "data": {
      "image/png": "[encoded data removed]",
      "text/plain": [
       "<Figure size 1080x720 with 1 Axes>"
      ]
     },
     "metadata": {
      "needs_background": "light"
     },
     "output_type": "display_data"
    }
   ],
   "source": [
    "nigeria_asylum_year.plot.bar(\n",
    "    xlabel=\"Year\",\n",
    "    ylabel=\"Number of Asylum sought\",\n",
    "    title=\"Yearly Asylum sought by Nigerians\",\n",
    "    figsize=(15,10)\n",
    ");"
   ]
  },
  {
   "cell_type": "code",
   "execution_count": 25,
   "metadata": {
    "datalore": {
     "hide_input_from_viewers": false,
     "hide_output_from_viewers": false,
     "type": "CODE"
    }
   },
   "outputs": [
    {
     "data": {
      "text/plain": [
       "country\n",
       "Austria                   14989\n",
       "Canada                    12617\n",
       "Belgium                    2121\n",
       "Australia                   802\n",
       "Bulgaria                    486\n",
       "Albania                       4\n",
       "Bosnia and Herzegovina        3\n",
       "Name: Value, dtype: int64"
      ]
     },
     "execution_count": 25,
     "metadata": {},
     "output_type": "execute_result"
    }
   ],
   "source": [
    "nigeria_asylum_destination =df_nigeria_origin.groupby(\"country\")[\"Value\"].sum().sort_values(ascending=False)\n",
    "nigeria_asylum_destination"
   ]
  },
  {
   "cell_type": "code",
   "execution_count": 26,
   "metadata": {
    "datalore": {
     "hide_input_from_viewers": false,
     "hide_output_from_viewers": false,
     "type": "CODE"
    }
   },
   "outputs": [
    {
     "data": {
      "image/png": "[encoded data removed]",
      "text/plain": [
       "<Figure size 1080x720 with 1 Axes>"
      ]
     },
     "metadata": {
      "needs_background": "light"
     },
     "output_type": "display_data"
    }
   ],
   "source": [
    "nigeria_asylum_destination.plot.bar(\n",
    "    figsize=(15,10),\n",
    "    title=\"Destination countries for Nigerian asylum seekers\",\n",
    "    xlabel=\"Countries\",\n",
    "    ylabel=\"Number of Asylum seekers\"\n",
    ");"
   ]
  },
  {
   "attachments": {},
   "cell_type": "markdown",
   "metadata": {
    "datalore": {
     "hide_input_from_viewers": false,
     "hide_output_from_viewers": false,
     "type": "MD"
    }
   },
   "source": [
    "Austria and Canada are the go-to countries for Nigerians seeking asylum. "
   ]
  },
  {
   "cell_type": "code",
   "execution_count": null,
   "metadata": {
    "datalore": {
     "hide_input_from_viewers": false,
     "hide_output_from_viewers": false,
     "type": "CODE"
    }
   },
   "outputs": [],
   "source": []
  }
 ],
 "metadata": {
  "datalore": {
   "base_environment": "default",
   "computation_mode": "REACTIVE",
   "package_manager": "pip",
   "packages": [],
   "version": 1
  },
  "interpreter": {
   "hash": "91cce6ef37c2b842da278a3a66f7e24caff22f145bbe9de7789cbd957a7a0e10"
  },
  "kernelspec": {
   "display_name": "Python 3.9.12 64-bit (windows store)",
   "language": "python",
   "name": "python3"
  },
  "language_info": {
   "codemirror_mode": {
    "name": "ipython",
    "version": 3
   },
   "file_extension": ".py",
   "mimetype": "text/x-python",
   "name": "python",
   "nbconvert_exporter": "python",
   "pygments_lexer": "ipython3",
   "version": "3.9.12"
  }
 },
 "nbformat": 4,
 "nbformat_minor": 4
}
